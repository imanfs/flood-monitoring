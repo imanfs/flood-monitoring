{
 "cells": [
  {
   "cell_type": "code",
   "execution_count": 12,
   "metadata": {},
   "outputs": [],
   "source": [
    "import requests \n",
    "import urllib\n",
    "from urllib.request import urlopen, Request\n",
    "from bs4 import BeautifulSoup"
   ]
  },
  {
   "cell_type": "code",
   "execution_count": 15,
   "metadata": {},
   "outputs": [],
   "source": [
    "root = \n",
    "\n",
    "\n",
    "soup = BeautifulSoup(page.content, 'html.parser')"
   ]
  },
  {
   "cell_type": "code",
   "execution_count": 28,
   "metadata": {},
   "outputs": [],
   "source": [
    "page.raise_for_status()"
   ]
  },
  {
   "cell_type": "code",
   "execution_count": 67,
   "metadata": {},
   "outputs": [],
   "source": [
    "entries = page.json()['items']\n"
   ]
  },
  {
   "cell_type": "code",
   "execution_count": 53,
   "metadata": {},
   "outputs": [
    {
     "data": {
      "text/plain": [
       "'1029TH'"
      ]
     },
     "execution_count": 53,
     "metadata": {},
     "output_type": "execute_result"
    }
   ],
   "source": [
    "[0]['stationReference']"
   ]
  },
  {
   "cell_type": "code",
   "execution_count": 232,
   "metadata": {},
   "outputs": [],
   "source": [
    "import numpy as np\n",
    "import datetime as dt\n",
    "import pandas as pd\n",
    "from collections import defaultdict\n",
    "import matplotlib.pyplot as plt\n",
    "import ipywidgets as widgets\n",
    "from IPython.display import display"
   ]
  },
  {
   "cell_type": "code",
   "execution_count": 307,
   "metadata": {},
   "outputs": [],
   "source": [
    "class MeasurementTool():\n",
    "    def __init__(self,):\n",
    "        self.root='https://environment.data.gov.uk/flood-monitoring'\n",
    "        self.page_url = self.root + '/id/stations/'\n",
    "        self.page = requests.get(self.page_url)\n",
    "        self.entries = self.page.json()['items']\n",
    "        self.stations = self.create_stations_list()\n",
    "        self.data = defaultdict(lambda: {\"timestamps\": [], \"values\": []})\n",
    "    \n",
    "    def retrieve_measurement(self,station_id):\n",
    "        station_url = self.page_url + station_id\n",
    "        latest_possible_reading_time = self.get_rounded_timestamp()\n",
    "        last_24_hrs = self.subtract_24_hours(latest_possible_reading_time)\n",
    "        station_page = requests.get(station_url + \"/readings?since=\" + last_24_hrs)\n",
    "        station_data = station_page.json()[\"items\"]\n",
    "\n",
    "        for item in station_data:\n",
    "            measure_name = \"-\".join(item[\"measure\"].split(\"/\")[-1].split(\"-\")[1:])  # Extract measure name\n",
    "            timestamp = item[\"dateTime\"]\n",
    "            value = item[\"value\"]\n",
    "            self.data[measure_name][\"timestamps\"].append(timestamp)\n",
    "            self.data[measure_name][\"values\"].append(value)\n",
    "\n",
    "    def get_rounded_timestamp(self):\n",
    "        \"\"\"Returns the current timestamp rounded down to the nearest 15-minute increment.\"\"\"\n",
    "        now = dt.datetime.now(dt.timezone.utc)\n",
    "        rounded_minutes = now.minute - (now.minute % 15)  # Round down to nearest 15-minute mark\n",
    "        rounded_time = now.replace(minute=rounded_minutes, second=0, microsecond=0)\n",
    "        return rounded_time.strftime(\"%Y-%m-%dT%H:%M:%SZ\")\n",
    "\n",
    "    def subtract_24_hours(self,timestamp: str) -> str:\n",
    "        \"\"\"Subtracts 24 hours from a given timestamp and returns it in the same format.\"\"\"\n",
    "        datetime = dt.datetime.strptime(timestamp, \"%Y-%m-%dT%H:%M:%SZ\")\n",
    "        new_dt = datetime - dt.timedelta(hours=24)\n",
    "        return new_dt.strftime(\"%Y-%m-%dT%H:%M:%SZ\")\n",
    "         \n",
    "    def create_stations_list(self):\n",
    "        stations = []\n",
    "        station_ids = []\n",
    "        for entry in self.entries: \n",
    "            stations.append(entry['@id'])\n",
    "            station_ids.append(entry['stationReference'])\n",
    "        return station_ids\n",
    "\n",
    "    def plot_measure(self,df):\n",
    "\n",
    "        # Convert timestamp to datetime\n",
    "        df['timestamps'] = pd.to_datetime(df['timestamps'])\n",
    "\n",
    "        # Plot\n",
    "        plt.figure(figsize=(10, 5))\n",
    "\n",
    "\n",
    "        # Formatting\n",
    "        plt.xlabel(\"Timestamp\")\n",
    "        plt.ylabel(\"Value\")\n",
    "        plt.title(\"Time Series Data\")\n",
    "        plt.xticks(rotation=45)  # Rotate x-axis labels for readability\n",
    "        plt.grid()\n",
    "        plt.plot(df['timestamps'], df['values'], marker='o', linestyle='-')\n",
    "    \n",
    "\n",
    "    def create_widgets(self):\n",
    "        global df\n",
    "        df = None\n",
    "        # Output widget to display results\n",
    "        output = widgets.Output()\n",
    "\n",
    "        # First dropdown for station selection\n",
    "        station_selector = widgets.Dropdown(\n",
    "            options=[\" \"] + self.stations,  # List of station IDs with blank\n",
    "            description=\"Station:\",\n",
    "            style={'description_width': 'initial'}\n",
    "        )\n",
    "\n",
    "        # Second dropdown for measure selection (Initially empty)\n",
    "        measure_selector = widgets.Dropdown(\n",
    "            options=[],  # Will be updated dynamically\n",
    "            description=\"Measure:\",\n",
    "            style={'description_width': 'initial'}\n",
    "        )\n",
    "\n",
    "        # Button to retrieve data\n",
    "        fetch_button = widgets.Button(description=\"Retrieve Data\")\n",
    "\n",
    "        # Function to update measure selector based on selected station\n",
    "        def update_measure_selector(change):\n",
    "            station_id = change.new  # Get newly selected station\n",
    "            if station_id:\n",
    "                output.clear_output()\n",
    "                print(f\"Fetching data for {station_id}...\")\n",
    "\n",
    "                # Fetch data for the station (Replace this with your function call)\n",
    "                self.retrieve_measurement(station_id)  # Your function\n",
    "                # Update measure dropdown with available measures\n",
    "                measure_selector.options = [\" \"] + list(self.data.keys())\n",
    "\n",
    "        # Attach the function to station dropdown\n",
    "        station_selector.observe(update_measure_selector, names=\"value\")\n",
    "\n",
    "        # Function to handle data retrieval\n",
    "        def on_data_button_click(b):\n",
    "            with output:\n",
    "                output.clear_output()\n",
    "                station_id = station_selector.value\n",
    "                measure = measure_selector.value\n",
    "\n",
    "                if not station_id:\n",
    "                    print(\"Please select a station.\")\n",
    "                    return\n",
    "                \n",
    "                if not measure:\n",
    "                    print(\"Please select a measure.\")\n",
    "                    return\n",
    "\n",
    "                print(f\"Fetching data for {station_id}, measure: {measure}...\")\n",
    "                \n",
    "                # Fetch and display data (Replace this with your actual function)\n",
    "                df = self.data[measure] if measure in self.data else None\n",
    "                print(df)\n",
    "                if df is None:\n",
    "                    print(\"No data available for the selected measure.\")\n",
    "                else:\n",
    "                    _ = interact(self.plot_measure(df))\n",
    "\n",
    "        # Attach button to function\n",
    "        fetch_button.on_click(on_data_button_click)\n",
    "\n",
    "        # Display widgets\n",
    "        display(station_selector, measure_selector, fetch_button, output)\n"
   ]
  },
  {
   "cell_type": "code",
   "execution_count": 308,
   "metadata": {},
   "outputs": [
    {
     "data": {
      "application/vnd.jupyter.widget-view+json": {
       "model_id": "5ed198d5132f499e976afd57899e6e6f",
       "version_major": 2,
       "version_minor": 0
      },
      "text/plain": [
       "Dropdown(description='Station:', options=(' ', '1029TH', 'E2043', '52119', 'E21136', '2067', '48143', '720215'…"
      ]
     },
     "metadata": {},
     "output_type": "display_data"
    },
    {
     "data": {
      "application/vnd.jupyter.widget-view+json": {
       "model_id": "1d44c66735954b7cb574cec811ed8ffb",
       "version_major": 2,
       "version_minor": 0
      },
      "text/plain": [
       "Dropdown(description='Measure:', options=(), style=DescriptionStyle(description_width='initial'), value=None)"
      ]
     },
     "metadata": {},
     "output_type": "display_data"
    },
    {
     "data": {
      "application/vnd.jupyter.widget-view+json": {
       "model_id": "aa0d0e4c7ab14427a1a1fafce248ee38",
       "version_major": 2,
       "version_minor": 0
      },
      "text/plain": [
       "Button(description='Retrieve Data', style=ButtonStyle())"
      ]
     },
     "metadata": {},
     "output_type": "display_data"
    },
    {
     "data": {
      "application/vnd.jupyter.widget-view+json": {
       "model_id": "88de906e34b4401fa926732fa26730f6",
       "version_major": 2,
       "version_minor": 0
      },
      "text/plain": [
       "Output()"
      ]
     },
     "metadata": {},
     "output_type": "display_data"
    },
    {
     "name": "stdout",
     "output_type": "stream",
     "text": [
      "Fetching data for 1029TH...\n"
     ]
    }
   ],
   "source": [
    "tool = MeasurementTool()\n",
    "tool.create_widgets()"
   ]
  },
  {
   "cell_type": "code",
   "execution_count": null,
   "metadata": {},
   "outputs": [],
   "source": []
  },
  {
   "cell_type": "code",
   "execution_count": 198,
   "metadata": {},
   "outputs": [],
   "source": [
    "data = tool.retrieve_measurement('1029TH')"
   ]
  }
 ],
 "metadata": {
  "kernelspec": {
   "display_name": "main",
   "language": "python",
   "name": "python3"
  },
  "language_info": {
   "codemirror_mode": {
    "name": "ipython",
    "version": 3
   },
   "file_extension": ".py",
   "mimetype": "text/x-python",
   "name": "python",
   "nbconvert_exporter": "python",
   "pygments_lexer": "ipython3",
   "version": "3.12.2"
  }
 },
 "nbformat": 4,
 "nbformat_minor": 2
}
