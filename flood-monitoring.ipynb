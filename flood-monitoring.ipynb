{
 "cells": [
  {
   "cell_type": "code",
   "execution_count": 12,
   "metadata": {},
   "outputs": [],
   "source": [
    "import requests \n",
    "import urllib\n",
    "from urllib.request import urlopen, Request\n",
    "from bs4 import BeautifulSoup"
   ]
  },
  {
   "cell_type": "code",
   "execution_count": 15,
   "metadata": {},
   "outputs": [],
   "source": [
    "root = \n",
    "\n",
    "\n",
    "soup = BeautifulSoup(page.content, 'html.parser')"
   ]
  },
  {
   "cell_type": "code",
   "execution_count": 28,
   "metadata": {},
   "outputs": [],
   "source": [
    "page.raise_for_status()"
   ]
  },
  {
   "cell_type": "code",
   "execution_count": 67,
   "metadata": {},
   "outputs": [],
   "source": [
    "entries = page.json()['items']\n"
   ]
  },
  {
   "cell_type": "code",
   "execution_count": 53,
   "metadata": {},
   "outputs": [
    {
     "data": {
      "text/plain": [
       "'1029TH'"
      ]
     },
     "execution_count": 53,
     "metadata": {},
     "output_type": "execute_result"
    }
   ],
   "source": [
    "[0]['stationReference']"
   ]
  },
  {
   "cell_type": "code",
   "execution_count": 110,
   "metadata": {},
   "outputs": [],
   "source": [
    "import numpy as np\n",
    "from datetime import datetime, timedelta\n",
    "import pandas as pd\n",
    "from collections import defaultdict  "
   ]
  },
  {
   "cell_type": "code",
   "execution_count": 117,
   "metadata": {},
   "outputs": [],
   "source": [
    "class MeasurementTool():\n",
    "    def __init__(self,):\n",
    "        self.minutes_arr = ['00','15','30','45']\n",
    "        self.root='https://environment.data.gov.uk/flood-monitoring'\n",
    "        self.page_url = self.root + '/id/stations/'\n",
    "        self.page = requests.get(self.page_url)\n",
    "        self.entries = self.page.json()['items']\n",
    "        self.stations = self.create_stations_list()\n",
    "        \n",
    "    def retrieve_measurement(self,station_id):\n",
    "        station_idx = next(i for i, item in enumerate(self.entries) if item['stationReference'] == station_id)\n",
    "        last_24_hrs = '?since=2016-09-07T10:30:00Z'\n",
    "        station_url = self.page_url + station_id\n",
    "        station_page = requests.get(station_url)\n",
    "        station_data = station_page.json()[\"items\"]\n",
    "        measures_metadata = {}\n",
    "        for measure in station_data['measures']:\n",
    "            measures_metadata[measure[\"label\"]] = measure\n",
    "            latest_datetime = measure[\"latestReading\"][\"dateTime\"]\n",
    "            last_24_hours = self.subtract_24_hours(latest_datetime)\n",
    "            last_day_page = requests.get(\"{0}/id/measures/{1}/readings?since={2}\".format(self.root,station_id,last_24_hours))\n",
    "            last_day_data = last_day_page.json()[\"items\"]\n",
    "            \n",
    "            for datapoint in last_day_data:\n",
    "                measures_metadata[measure[\"value\"]] = datapoint[\"value\"]\n",
    "                measures_metadata[measure[\"value\"]] = datapoint[\"value\"]\n",
    "       \n",
    "    def retrieve_measurement(self,station_id):\n",
    "        last_24_hrs = '?since=2016-09-07T10:30:00Z'\n",
    "        station_url = self.page_url + station_id\n",
    "        station_page = requests.get(station_url)\n",
    "        station_data = station_page.json()[\"items\"]\n",
    "        measures_metadata = {}\n",
    "        print(\"{0}/id/stations/{1}/readings?since={2}\".format(self.root,station_id,last_24_hours))\n",
    "\n",
    "\n",
    "\n",
    "\n",
    "    def subtract_24_hours(self,timestamp: str) -> str:\n",
    "        # Parse the input timestamp\n",
    "        dt = datetime.strptime(timestamp, \"%Y-%m-%dT%H:%M:%SZ\")\n",
    "        \n",
    "        # Subtract 24 hours\n",
    "        new_dt = dt - timedelta(hours=24)\n",
    "        \n",
    "        # Convert back to the original format\n",
    "        return new_dt.strftime(\"%Y-%m-%dT%H:%M:%SZ\")\n",
    "        \n",
    "        \n",
    "\n",
    "    def create_stations_list(self):\n",
    "        stations = []\n",
    "        station_ids = []\n",
    "        for entry in self.entries: \n",
    "            stations.append(entry['@id'])\n",
    "            station_ids.append(entry['stationReference'])\n",
    "            break\n",
    "        return station_ids"
   ]
  },
  {
   "cell_type": "code",
   "execution_count": 118,
   "metadata": {},
   "outputs": [
    {
     "name": "stdout",
     "output_type": "stream",
     "text": [
      "@id\n"
     ]
    },
    {
     "ename": "TypeError",
     "evalue": "string indices must be integers, not 'str'",
     "output_type": "error",
     "traceback": [
      "\u001b[0;31m---------------------------------------------------------------------------\u001b[0m",
      "\u001b[0;31mTypeError\u001b[0m                                 Traceback (most recent call last)",
      "Cell \u001b[0;32mIn[118], line 2\u001b[0m\n\u001b[1;32m      1\u001b[0m tool \u001b[38;5;241m=\u001b[39m MeasurementTool()\n\u001b[0;32m----> 2\u001b[0m tool\u001b[38;5;241m.\u001b[39mretrieve_measurement(\u001b[38;5;124m'\u001b[39m\u001b[38;5;124m1029TH\u001b[39m\u001b[38;5;124m'\u001b[39m)\n",
      "Cell \u001b[0;32mIn[117], line 18\u001b[0m, in \u001b[0;36mMeasurementTool.retrieve_measurement\u001b[0;34m(self, station_id)\u001b[0m\n\u001b[1;32m     16\u001b[0m \u001b[38;5;28;01mfor\u001b[39;00m item \u001b[38;5;129;01min\u001b[39;00m station_data:\n\u001b[1;32m     17\u001b[0m     \u001b[38;5;28mprint\u001b[39m(item)\n\u001b[0;32m---> 18\u001b[0m     measure_name \u001b[38;5;241m=\u001b[39m \u001b[38;5;124m\"\u001b[39m\u001b[38;5;124m-\u001b[39m\u001b[38;5;124m\"\u001b[39m\u001b[38;5;241m.\u001b[39mjoin(item[\u001b[38;5;124m\"\u001b[39m\u001b[38;5;124mmeasure\u001b[39m\u001b[38;5;124m\"\u001b[39m]\u001b[38;5;241m.\u001b[39msplit(\u001b[38;5;124m\"\u001b[39m\u001b[38;5;124m/\u001b[39m\u001b[38;5;124m\"\u001b[39m)[\u001b[38;5;241m-\u001b[39m\u001b[38;5;241m1\u001b[39m]\u001b[38;5;241m.\u001b[39msplit(\u001b[38;5;124m\"\u001b[39m\u001b[38;5;124m-\u001b[39m\u001b[38;5;124m\"\u001b[39m)[\u001b[38;5;241m1\u001b[39m:])  \u001b[38;5;66;03m# Extract measure name\u001b[39;00m\n\u001b[1;32m     19\u001b[0m     timestamp \u001b[38;5;241m=\u001b[39m item[\u001b[38;5;124m\"\u001b[39m\u001b[38;5;124mdateTime\u001b[39m\u001b[38;5;124m\"\u001b[39m]\n\u001b[1;32m     20\u001b[0m     value \u001b[38;5;241m=\u001b[39m item[\u001b[38;5;124m\"\u001b[39m\u001b[38;5;124mvalue\u001b[39m\u001b[38;5;124m\"\u001b[39m]\n",
      "\u001b[0;31mTypeError\u001b[0m: string indices must be integers, not 'str'"
     ]
    }
   ],
   "source": [
    "tool = MeasurementTool()\n",
    "tool.retrieve_measurement('1029TH')"
   ]
  },
  {
   "cell_type": "code",
   "execution_count": null,
   "metadata": {},
   "outputs": [],
   "source": []
  }
 ],
 "metadata": {
  "kernelspec": {
   "display_name": "main",
   "language": "python",
   "name": "python3"
  },
  "language_info": {
   "codemirror_mode": {
    "name": "ipython",
    "version": 3
   },
   "file_extension": ".py",
   "mimetype": "text/x-python",
   "name": "python",
   "nbconvert_exporter": "python",
   "pygments_lexer": "ipython3",
   "version": "3.12.2"
  }
 },
 "nbformat": 4,
 "nbformat_minor": 2
}
