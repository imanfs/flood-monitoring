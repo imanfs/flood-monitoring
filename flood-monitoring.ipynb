{
 "cells": [
  {
   "cell_type": "code",
   "execution_count": 12,
   "metadata": {},
   "outputs": [],
   "source": [
    "import requests \n",
    "import urllib\n",
    "from urllib.request import urlopen, Request\n",
    "from bs4 import BeautifulSoup"
   ]
  },
  {
   "cell_type": "code",
   "execution_count": 15,
   "metadata": {},
   "outputs": [],
   "source": [
    "root = \n",
    "\n",
    "\n",
    "soup = BeautifulSoup(page.content, 'html.parser')"
   ]
  },
  {
   "cell_type": "code",
   "execution_count": 28,
   "metadata": {},
   "outputs": [],
   "source": [
    "page.raise_for_status()"
   ]
  },
  {
   "cell_type": "code",
   "execution_count": 67,
   "metadata": {},
   "outputs": [],
   "source": [
    "entries = page.json()['items']\n"
   ]
  },
  {
   "cell_type": "code",
   "execution_count": 53,
   "metadata": {},
   "outputs": [
    {
     "data": {
      "text/plain": [
       "'1029TH'"
      ]
     },
     "execution_count": 53,
     "metadata": {},
     "output_type": "execute_result"
    }
   ],
   "source": [
    "[0]['stationReference']"
   ]
  },
  {
   "cell_type": "code",
   "execution_count": 121,
   "metadata": {},
   "outputs": [],
   "source": [
    "import numpy as np\n",
    "import datetime as dt\n",
    "import pandas as pd\n",
    "from collections import defaultdict  "
   ]
  },
  {
   "cell_type": "code",
   "execution_count": 201,
   "metadata": {},
   "outputs": [],
   "source": [
    "class MeasurementTool():\n",
    "    def __init__(self,):\n",
    "        self.minutes_arr = ['00','15','30','45']\n",
    "        self.root='https://environment.data.gov.uk/flood-monitoring'\n",
    "        self.page_url = self.root + '/id/stations/'\n",
    "        self.page = requests.get(self.page_url)\n",
    "        self.entries = self.page.json()['items']\n",
    "        self.stations = self.create_stations_list()\n",
    "        self.structured_data = defaultdict(list)\n",
    "    \n",
    "    def retrieve_measurement(self,station_id):\n",
    "        station_url = self.page_url + station_id\n",
    "        latest_possible_reading_time = self.get_rounded_timestamp()\n",
    "        last_24_hrs = self.subtract_24_hours(latest_possible_reading_time)\n",
    "        station_page = requests.get(station_url + \"/readings?since=\" + last_24_hrs)\n",
    "        station_data = station_page.json()[\"items\"]\n",
    "\n",
    "        for item in station_data:\n",
    "            measure_name = \"-\".join(item[\"measure\"].split(\"/\")[-1].split(\"-\")[1:])  # Extract measure name\n",
    "            timestamp = item[\"dateTime\"]\n",
    "            value = item[\"value\"]\n",
    "            self.structured_data[measure_name].append({\"timestamp\": timestamp, \"value\": value})\n",
    "\n",
    "        return self.structured_data\n",
    "\n",
    "    def get_rounded_timestamp(self):\n",
    "        \"\"\"Returns the current timestamp rounded down to the nearest 15-minute increment.\"\"\"\n",
    "        now = dt.datetime.now(dt.timezone.utc)\n",
    "        rounded_minutes = now.minute - (now.minute % 15)  # Round down to nearest 15-minute mark\n",
    "        rounded_time = now.replace(minute=rounded_minutes, second=0, microsecond=0)\n",
    "        return rounded_time.strftime(\"%Y-%m-%dT%H:%M:%SZ\")\n",
    "\n",
    "    def subtract_24_hours(self,timestamp: str) -> str:\n",
    "        \"\"\"Subtracts 24 hours from a given timestamp and returns it in the same format.\"\"\"\n",
    "        datetime = dt.datetime.strptime(timestamp, \"%Y-%m-%dT%H:%M:%SZ\")\n",
    "        new_dt = datetime - dt.timedelta(hours=24)\n",
    "        return new_dt.strftime(\"%Y-%m-%dT%H:%M:%SZ\")\n",
    "         \n",
    "    def create_stations_list(self):\n",
    "        stations = []\n",
    "        station_ids = []\n",
    "        for entry in self.entries: \n",
    "            stations.append(entry['@id'])\n",
    "            station_ids.append(entry['stationReference'])\n",
    "            break\n",
    "        return station_ids\n",
    "    \n",
    "    def create_widgets(self):\n",
    "        station_selector = widgets.Dropdown(\n",
    "            options=self.create_stations_list(),  # List of station IDs\n",
    "            description=\"Station:\",\n",
    "            style={'description_width': 'initial'}\n",
    "        )\n",
    "\n",
    "        # Define the button widget\n",
    "        run_button = widgets.Button(description=\"Retrieve Data\")\n",
    "\n",
    "        # Define the output area\n",
    "        output = widgets.Output()\n",
    "\n",
    "        # Define what happens when the button is clicked\n",
    "        def on_button_click(b):\n",
    "            with output:\n",
    "                output.clear_output()  # Clear previous output\n",
    "                station_id = station_selector.value\n",
    "                print(f\"Fetching data for {station_id}...\")\n",
    "                # Call your function here (e.g., retrieve_measurement(station_id))\n",
    "                data = self.retrieve_measurement(station_id)\n",
    "                print(data)\n",
    "\n",
    "        # Link the button to the function\n",
    "        run_button.on_click(on_button_click)\n",
    "\n",
    "        # Display widgets\n",
    "        display(station_selector, run_button, output)        "
   ]
  },
  {
   "cell_type": "code",
   "execution_count": 197,
   "metadata": {},
   "outputs": [
    {
     "data": {
      "text/plain": [
       "defaultdict(list,\n",
       "            {'level-downstage-i-15_min-mASD': [{'timestamp': '2025-03-07T12:00:00Z',\n",
       "               'value': -0.148},\n",
       "              {'timestamp': '2025-03-07T12:15:00Z', 'value': -0.149},\n",
       "              {'timestamp': '2025-03-07T12:30:00Z', 'value': -0.149},\n",
       "              {'timestamp': '2025-03-07T12:45:00Z', 'value': -0.151},\n",
       "              {'timestamp': '2025-03-07T13:00:00Z', 'value': -0.148},\n",
       "              {'timestamp': '2025-03-07T13:15:00Z', 'value': -0.149},\n",
       "              {'timestamp': '2025-03-07T13:30:00Z', 'value': -0.149},\n",
       "              {'timestamp': '2025-03-07T13:45:00Z', 'value': -0.15},\n",
       "              {'timestamp': '2025-03-07T14:00:00Z', 'value': -0.15},\n",
       "              {'timestamp': '2025-03-07T14:15:00Z', 'value': -0.151},\n",
       "              {'timestamp': '2025-03-07T14:30:00Z', 'value': -0.151},\n",
       "              {'timestamp': '2025-03-07T14:45:00Z', 'value': -0.151},\n",
       "              {'timestamp': '2025-03-07T15:00:00Z', 'value': -0.151},\n",
       "              {'timestamp': '2025-03-07T15:15:00Z', 'value': -0.152},\n",
       "              {'timestamp': '2025-03-07T15:30:00Z', 'value': -0.153},\n",
       "              {'timestamp': '2025-03-07T15:45:00Z', 'value': -0.153},\n",
       "              {'timestamp': '2025-03-07T16:00:00Z', 'value': -0.152},\n",
       "              {'timestamp': '2025-03-07T16:15:00Z', 'value': -0.151},\n",
       "              {'timestamp': '2025-03-07T16:30:00Z', 'value': -0.152},\n",
       "              {'timestamp': '2025-03-07T16:45:00Z', 'value': -0.153},\n",
       "              {'timestamp': '2025-03-07T17:00:00Z', 'value': -0.149},\n",
       "              {'timestamp': '2025-03-07T17:15:00Z', 'value': -0.151},\n",
       "              {'timestamp': '2025-03-07T17:30:00Z', 'value': -0.15},\n",
       "              {'timestamp': '2025-03-07T17:45:00Z', 'value': -0.15},\n",
       "              {'timestamp': '2025-03-07T18:00:00Z', 'value': -0.15},\n",
       "              {'timestamp': '2025-03-07T18:15:00Z', 'value': -0.15},\n",
       "              {'timestamp': '2025-03-07T18:30:00Z', 'value': -0.149},\n",
       "              {'timestamp': '2025-03-07T18:45:00Z', 'value': -0.15},\n",
       "              {'timestamp': '2025-03-07T19:00:00Z', 'value': -0.15},\n",
       "              {'timestamp': '2025-03-07T19:15:00Z', 'value': -0.15},\n",
       "              {'timestamp': '2025-03-07T19:30:00Z', 'value': -0.151},\n",
       "              {'timestamp': '2025-03-07T19:45:00Z', 'value': -0.151},\n",
       "              {'timestamp': '2025-03-07T20:00:00Z', 'value': -0.151},\n",
       "              {'timestamp': '2025-03-07T20:15:00Z', 'value': -0.151},\n",
       "              {'timestamp': '2025-03-07T20:30:00Z', 'value': -0.152},\n",
       "              {'timestamp': '2025-03-07T20:45:00Z', 'value': -0.151},\n",
       "              {'timestamp': '2025-03-07T21:00:00Z', 'value': -0.153},\n",
       "              {'timestamp': '2025-03-07T21:15:00Z', 'value': -0.152},\n",
       "              {'timestamp': '2025-03-07T22:30:00Z', 'value': -0.152},\n",
       "              {'timestamp': '2025-03-07T21:45:00Z', 'value': -0.153},\n",
       "              {'timestamp': '2025-03-07T21:30:00Z', 'value': -0.153},\n",
       "              {'timestamp': '2025-03-07T22:00:00Z', 'value': -0.151},\n",
       "              {'timestamp': '2025-03-07T22:15:00Z', 'value': -0.152},\n",
       "              {'timestamp': '2025-03-07T22:45:00Z', 'value': -0.152},\n",
       "              {'timestamp': '2025-03-07T23:00:00Z', 'value': -0.152},\n",
       "              {'timestamp': '2025-03-07T23:15:00Z', 'value': -0.151},\n",
       "              {'timestamp': '2025-03-07T23:30:00Z', 'value': -0.153},\n",
       "              {'timestamp': '2025-03-07T23:45:00Z', 'value': -0.153},\n",
       "              {'timestamp': '2025-03-08T00:00:00Z', 'value': -0.154},\n",
       "              {'timestamp': '2025-03-08T00:15:00Z', 'value': -0.153},\n",
       "              {'timestamp': '2025-03-08T00:30:00Z', 'value': -0.154},\n",
       "              {'timestamp': '2025-03-08T00:45:00Z', 'value': -0.153},\n",
       "              {'timestamp': '2025-03-08T01:00:00Z', 'value': -0.154},\n",
       "              {'timestamp': '2025-03-08T01:15:00Z', 'value': -0.155},\n",
       "              {'timestamp': '2025-03-08T01:30:00Z', 'value': -0.156},\n",
       "              {'timestamp': '2025-03-08T01:45:00Z', 'value': -0.156},\n",
       "              {'timestamp': '2025-03-08T02:00:00Z', 'value': -0.154},\n",
       "              {'timestamp': '2025-03-08T02:15:00Z', 'value': -0.154},\n",
       "              {'timestamp': '2025-03-08T02:45:00Z', 'value': -0.154},\n",
       "              {'timestamp': '2025-03-08T02:30:00Z', 'value': -0.156},\n",
       "              {'timestamp': '2025-03-08T03:00:00Z', 'value': -0.154},\n",
       "              {'timestamp': '2025-03-08T03:15:00Z', 'value': -0.155},\n",
       "              {'timestamp': '2025-03-08T03:30:00Z', 'value': -0.152},\n",
       "              {'timestamp': '2025-03-08T03:45:00Z', 'value': -0.156},\n",
       "              {'timestamp': '2025-03-08T04:00:00Z', 'value': -0.153},\n",
       "              {'timestamp': '2025-03-08T04:15:00Z', 'value': -0.154},\n",
       "              {'timestamp': '2025-03-08T04:30:00Z', 'value': -0.154},\n",
       "              {'timestamp': '2025-03-08T04:45:00Z', 'value': -0.153},\n",
       "              {'timestamp': '2025-03-08T05:00:00Z', 'value': -0.154},\n",
       "              {'timestamp': '2025-03-08T05:15:00Z', 'value': -0.155},\n",
       "              {'timestamp': '2025-03-08T05:30:00Z', 'value': -0.156},\n",
       "              {'timestamp': '2025-03-08T05:45:00Z', 'value': -0.156},\n",
       "              {'timestamp': '2025-03-08T06:00:00Z', 'value': -0.156},\n",
       "              {'timestamp': '2025-03-08T06:15:00Z', 'value': -0.156},\n",
       "              {'timestamp': '2025-03-08T06:30:00Z', 'value': -0.158},\n",
       "              {'timestamp': '2025-03-08T06:45:00Z', 'value': -0.158},\n",
       "              {'timestamp': '2025-03-08T07:00:00Z', 'value': -0.158},\n",
       "              {'timestamp': '2025-03-08T07:15:00Z', 'value': -0.157},\n",
       "              {'timestamp': '2025-03-08T07:30:00Z', 'value': -0.156},\n",
       "              {'timestamp': '2025-03-08T07:45:00Z', 'value': -0.156},\n",
       "              {'timestamp': '2025-03-08T08:00:00Z', 'value': -0.156},\n",
       "              {'timestamp': '2025-03-08T08:15:00Z', 'value': -0.156},\n",
       "              {'timestamp': '2025-03-08T08:30:00Z', 'value': -0.155},\n",
       "              {'timestamp': '2025-03-08T08:45:00Z', 'value': -0.154},\n",
       "              {'timestamp': '2025-03-08T09:00:00Z', 'value': -0.153},\n",
       "              {'timestamp': '2025-03-08T09:15:00Z', 'value': -0.153},\n",
       "              {'timestamp': '2025-03-08T09:30:00Z', 'value': -0.154},\n",
       "              {'timestamp': '2025-03-08T09:45:00Z', 'value': -0.154},\n",
       "              {'timestamp': '2025-03-08T10:00:00Z', 'value': -0.153},\n",
       "              {'timestamp': '2025-03-08T10:15:00Z', 'value': -0.154},\n",
       "              {'timestamp': '2025-03-08T10:30:00Z', 'value': -0.153},\n",
       "              {'timestamp': '2025-03-08T10:45:00Z', 'value': -0.154},\n",
       "              {'timestamp': '2025-03-08T11:15:00Z', 'value': -0.155},\n",
       "              {'timestamp': '2025-03-08T11:00:00Z', 'value': -0.154},\n",
       "              {'timestamp': '2025-03-08T11:30:00Z', 'value': -0.155}],\n",
       "             'level-stage-i-15_min-mASD': [{'timestamp': '2025-03-07T12:00:00Z',\n",
       "               'value': 0.281},\n",
       "              {'timestamp': '2025-03-07T12:15:00Z', 'value': 0.281},\n",
       "              {'timestamp': '2025-03-07T12:30:00Z', 'value': 0.281},\n",
       "              {'timestamp': '2025-03-07T12:45:00Z', 'value': 0.28},\n",
       "              {'timestamp': '2025-03-07T13:00:00Z', 'value': 0.282},\n",
       "              {'timestamp': '2025-03-07T13:15:00Z', 'value': 0.28},\n",
       "              {'timestamp': '2025-03-07T13:30:00Z', 'value': 0.279},\n",
       "              {'timestamp': '2025-03-07T13:45:00Z', 'value': 0.279},\n",
       "              {'timestamp': '2025-03-07T14:00:00Z', 'value': 0.279},\n",
       "              {'timestamp': '2025-03-07T14:15:00Z', 'value': 0.279},\n",
       "              {'timestamp': '2025-03-07T14:30:00Z', 'value': 0.28},\n",
       "              {'timestamp': '2025-03-07T14:45:00Z', 'value': 0.278},\n",
       "              {'timestamp': '2025-03-07T15:00:00Z', 'value': 0.28},\n",
       "              {'timestamp': '2025-03-07T15:15:00Z', 'value': 0.279},\n",
       "              {'timestamp': '2025-03-07T15:30:00Z', 'value': 0.279},\n",
       "              {'timestamp': '2025-03-07T15:45:00Z', 'value': 0.279},\n",
       "              {'timestamp': '2025-03-07T16:00:00Z', 'value': 0.279},\n",
       "              {'timestamp': '2025-03-07T16:15:00Z', 'value': 0.279},\n",
       "              {'timestamp': '2025-03-07T16:30:00Z', 'value': 0.279},\n",
       "              {'timestamp': '2025-03-07T16:45:00Z', 'value': 0.28},\n",
       "              {'timestamp': '2025-03-07T17:00:00Z', 'value': 0.28},\n",
       "              {'timestamp': '2025-03-07T17:15:00Z', 'value': 0.281},\n",
       "              {'timestamp': '2025-03-07T17:30:00Z', 'value': 0.281},\n",
       "              {'timestamp': '2025-03-07T17:45:00Z', 'value': 0.281},\n",
       "              {'timestamp': '2025-03-07T18:00:00Z', 'value': 0.281},\n",
       "              {'timestamp': '2025-03-07T18:15:00Z', 'value': 0.282},\n",
       "              {'timestamp': '2025-03-07T18:30:00Z', 'value': 0.28},\n",
       "              {'timestamp': '2025-03-07T18:45:00Z', 'value': 0.281},\n",
       "              {'timestamp': '2025-03-07T19:00:00Z', 'value': 0.28},\n",
       "              {'timestamp': '2025-03-07T19:15:00Z', 'value': 0.278},\n",
       "              {'timestamp': '2025-03-07T19:30:00Z', 'value': 0.278},\n",
       "              {'timestamp': '2025-03-07T19:45:00Z', 'value': 0.278},\n",
       "              {'timestamp': '2025-03-07T20:00:00Z', 'value': 0.28},\n",
       "              {'timestamp': '2025-03-07T20:15:00Z', 'value': 0.278},\n",
       "              {'timestamp': '2025-03-07T20:30:00Z', 'value': 0.279},\n",
       "              {'timestamp': '2025-03-07T20:45:00Z', 'value': 0.28},\n",
       "              {'timestamp': '2025-03-07T21:00:00Z', 'value': 0.279},\n",
       "              {'timestamp': '2025-03-07T21:15:00Z', 'value': 0.277},\n",
       "              {'timestamp': '2025-03-07T22:30:00Z', 'value': 0.278},\n",
       "              {'timestamp': '2025-03-07T22:15:00Z', 'value': 0.278},\n",
       "              {'timestamp': '2025-03-07T21:30:00Z', 'value': 0.279},\n",
       "              {'timestamp': '2025-03-07T21:45:00Z', 'value': 0.278},\n",
       "              {'timestamp': '2025-03-07T22:00:00Z', 'value': 0.279},\n",
       "              {'timestamp': '2025-03-07T22:45:00Z', 'value': 0.278},\n",
       "              {'timestamp': '2025-03-07T23:00:00Z', 'value': 0.28},\n",
       "              {'timestamp': '2025-03-07T23:15:00Z', 'value': 0.279},\n",
       "              {'timestamp': '2025-03-07T23:30:00Z', 'value': 0.278},\n",
       "              {'timestamp': '2025-03-07T23:45:00Z', 'value': 0.278},\n",
       "              {'timestamp': '2025-03-08T00:00:00Z', 'value': 0.279},\n",
       "              {'timestamp': '2025-03-08T00:15:00Z', 'value': 0.278},\n",
       "              {'timestamp': '2025-03-08T00:30:00Z', 'value': 0.277},\n",
       "              {'timestamp': '2025-03-08T00:45:00Z', 'value': 0.277},\n",
       "              {'timestamp': '2025-03-08T01:00:00Z', 'value': 0.278},\n",
       "              {'timestamp': '2025-03-08T01:15:00Z', 'value': 0.277},\n",
       "              {'timestamp': '2025-03-08T01:30:00Z', 'value': 0.276},\n",
       "              {'timestamp': '2025-03-08T01:45:00Z', 'value': 0.277},\n",
       "              {'timestamp': '2025-03-08T02:00:00Z', 'value': 0.277},\n",
       "              {'timestamp': '2025-03-08T02:15:00Z', 'value': 0.278},\n",
       "              {'timestamp': '2025-03-08T02:45:00Z', 'value': 0.277},\n",
       "              {'timestamp': '2025-03-08T02:30:00Z', 'value': 0.277},\n",
       "              {'timestamp': '2025-03-08T03:00:00Z', 'value': 0.277},\n",
       "              {'timestamp': '2025-03-08T03:15:00Z', 'value': 0.278},\n",
       "              {'timestamp': '2025-03-08T03:30:00Z', 'value': 0.278},\n",
       "              {'timestamp': '2025-03-08T03:45:00Z', 'value': 0.277},\n",
       "              {'timestamp': '2025-03-08T04:00:00Z', 'value': 0.278},\n",
       "              {'timestamp': '2025-03-08T04:15:00Z', 'value': 0.278},\n",
       "              {'timestamp': '2025-03-08T04:30:00Z', 'value': 0.278},\n",
       "              {'timestamp': '2025-03-08T04:45:00Z', 'value': 0.276},\n",
       "              {'timestamp': '2025-03-08T05:00:00Z', 'value': 0.277},\n",
       "              {'timestamp': '2025-03-08T05:15:00Z', 'value': 0.276},\n",
       "              {'timestamp': '2025-03-08T05:30:00Z', 'value': 0.276},\n",
       "              {'timestamp': '2025-03-08T05:45:00Z', 'value': 0.277},\n",
       "              {'timestamp': '2025-03-08T06:00:00Z', 'value': 0.277},\n",
       "              {'timestamp': '2025-03-08T06:15:00Z', 'value': 0.276},\n",
       "              {'timestamp': '2025-03-08T06:30:00Z', 'value': 0.276},\n",
       "              {'timestamp': '2025-03-08T06:45:00Z', 'value': 0.275},\n",
       "              {'timestamp': '2025-03-08T07:00:00Z', 'value': 0.276},\n",
       "              {'timestamp': '2025-03-08T07:15:00Z', 'value': 0.276},\n",
       "              {'timestamp': '2025-03-08T07:30:00Z', 'value': 0.277},\n",
       "              {'timestamp': '2025-03-08T07:45:00Z', 'value': 0.277},\n",
       "              {'timestamp': '2025-03-08T08:00:00Z', 'value': 0.276},\n",
       "              {'timestamp': '2025-03-08T08:15:00Z', 'value': 0.276},\n",
       "              {'timestamp': '2025-03-08T08:30:00Z', 'value': 0.277},\n",
       "              {'timestamp': '2025-03-08T08:45:00Z', 'value': 0.277},\n",
       "              {'timestamp': '2025-03-08T09:00:00Z', 'value': 0.277},\n",
       "              {'timestamp': '2025-03-08T09:15:00Z', 'value': 0.277},\n",
       "              {'timestamp': '2025-03-08T09:30:00Z', 'value': 0.277},\n",
       "              {'timestamp': '2025-03-08T09:45:00Z', 'value': 0.277},\n",
       "              {'timestamp': '2025-03-08T10:00:00Z', 'value': 0.279},\n",
       "              {'timestamp': '2025-03-08T10:15:00Z', 'value': 0.278},\n",
       "              {'timestamp': '2025-03-08T10:30:00Z', 'value': 0.278},\n",
       "              {'timestamp': '2025-03-08T10:45:00Z', 'value': 0.279},\n",
       "              {'timestamp': '2025-03-08T11:15:00Z', 'value': 0.277},\n",
       "              {'timestamp': '2025-03-08T11:00:00Z', 'value': 0.278},\n",
       "              {'timestamp': '2025-03-08T11:30:00Z', 'value': 0.277}]})"
      ]
     },
     "execution_count": 197,
     "metadata": {},
     "output_type": "execute_result"
    }
   ],
   "source": [
    "tool = MeasurementTool()\n"
   ]
  },
  {
   "cell_type": "code",
   "execution_count": 198,
   "metadata": {},
   "outputs": [],
   "source": [
    "data = tool.retrieve_measurement('1029TH')"
   ]
  },
  {
   "cell_type": "code",
   "execution_count": 200,
   "metadata": {},
   "outputs": [
    {
     "data": {
      "text/plain": [
       "dict_keys(['level-downstage-i-15_min-mASD', 'level-stage-i-15_min-mASD'])"
      ]
     },
     "execution_count": 200,
     "metadata": {},
     "output_type": "execute_result"
    }
   ],
   "source": [
    "data.keys()"
   ]
  },
  {
   "cell_type": "code",
   "execution_count": 196,
   "metadata": {},
   "outputs": [
    {
     "data": {
      "application/vnd.jupyter.widget-view+json": {
       "model_id": "0327087d8bcd4703a4877ad085a7acc4",
       "version_major": 2,
       "version_minor": 0
      },
      "text/plain": [
       "Dropdown(description='Station:', options=('1029TH', 'E2043', '52119', 'E21136', '2067', '48143', '720215', 'F1…"
      ]
     },
     "metadata": {},
     "output_type": "display_data"
    },
    {
     "data": {
      "application/vnd.jupyter.widget-view+json": {
       "model_id": "d026d97e71ec417ca35bf384fad6f0f9",
       "version_major": 2,
       "version_minor": 0
      },
      "text/plain": [
       "Button(description='Retrieve Data', style=ButtonStyle())"
      ]
     },
     "metadata": {},
     "output_type": "display_data"
    },
    {
     "data": {
      "application/vnd.jupyter.widget-view+json": {
       "model_id": "8d4e89a0868c4e59a9ba3fee2e1dc01b",
       "version_major": 2,
       "version_minor": 0
      },
      "text/plain": [
       "Output()"
      ]
     },
     "metadata": {},
     "output_type": "display_data"
    }
   ],
   "source": [
    "tool = MeasurementTool()\n",
    "tool.create_widgets()"
   ]
  },
  {
   "cell_type": "code",
   "execution_count": 173,
   "metadata": {},
   "outputs": [
    {
     "data": {
      "text/plain": [
       "'2025-03-07T02:00:00Z'"
      ]
     },
     "execution_count": 173,
     "metadata": {},
     "output_type": "execute_result"
    }
   ],
   "source": [
    "pd.DataFrame(measurements)['level-downstage-i-15_min-mASD'][0]['timestamp']\n"
   ]
  },
  {
   "cell_type": "code",
   "execution_count": 181,
   "metadata": {},
   "outputs": [
    {
     "data": {
      "application/vnd.jupyter.widget-view+json": {
       "model_id": "d6a9763d077a4e28a9085cda8ec738d1",
       "version_major": 2,
       "version_minor": 0
      },
      "text/plain": [
       "Dropdown(description='Station:', options=('1491TH', '1029TH', '2384AB', '3072XY'), style=DescriptionStyle(desc…"
      ]
     },
     "metadata": {},
     "output_type": "display_data"
    },
    {
     "data": {
      "application/vnd.jupyter.widget-view+json": {
       "model_id": "32af188432204b3d84dfdf1f4cf81744",
       "version_major": 2,
       "version_minor": 0
      },
      "text/plain": [
       "Button(description='Retrieve Data', style=ButtonStyle())"
      ]
     },
     "metadata": {},
     "output_type": "display_data"
    },
    {
     "data": {
      "application/vnd.jupyter.widget-view+json": {
       "model_id": "b4e237b77cc749f39fe10663a4dd6ebc",
       "version_major": 2,
       "version_minor": 0
      },
      "text/plain": [
       "Output()"
      ]
     },
     "metadata": {},
     "output_type": "display_data"
    }
   ],
   "source": [
    "import ipywidgets as widgets\n",
    "from IPython.display import display\n",
    "\n",
    "# Define the dropdown widget\n",
    "tool.c"
   ]
  }
 ],
 "metadata": {
  "kernelspec": {
   "display_name": "main",
   "language": "python",
   "name": "python3"
  },
  "language_info": {
   "codemirror_mode": {
    "name": "ipython",
    "version": 3
   },
   "file_extension": ".py",
   "mimetype": "text/x-python",
   "name": "python",
   "nbconvert_exporter": "python",
   "pygments_lexer": "ipython3",
   "version": "3.12.2"
  }
 },
 "nbformat": 4,
 "nbformat_minor": 2
}
