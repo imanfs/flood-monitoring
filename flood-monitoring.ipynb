{
 "cells": [
  {
   "cell_type": "code",
   "execution_count": 1,
   "metadata": {},
   "outputs": [],
   "source": [
    "import requests\n",
    "import urllib\n",
    "from urllib.request import urlopen, Request\n",
    "from bs4 import BeautifulSoup"
   ]
  },
  {
   "cell_type": "code",
   "execution_count": 2,
   "metadata": {},
   "outputs": [],
   "source": [
    "import streamlit"
   ]
  },
  {
   "cell_type": "code",
   "execution_count": 3,
   "metadata": {},
   "outputs": [],
   "source": [
    "import numpy as np\n",
    "import datetime as dt\n",
    "import pandas as pd\n",
    "from collections import defaultdict\n",
    "import matplotlib.pyplot as plt\n",
    "import ipywidgets as widgets\n",
    "from IPython.display import display"
   ]
  },
  {
   "cell_type": "code",
   "execution_count": 19,
   "metadata": {},
   "outputs": [],
   "source": [
    "import requests\n",
    "import datetime as dt\n",
    "import pandas as pd\n",
    "from collections import defaultdict\n",
    "import matplotlib.pyplot as plt\n",
    "import streamlit as st\n",
    "\n",
    "\n",
    "class MeasurementTool:\n",
    "    def __init__(\n",
    "        self,\n",
    "    ):\n",
    "        self.root = \"https://environment.data.gov.uk/flood-monitoring\"\n",
    "        self.page_url = self.root + \"/id/stations/\"\n",
    "        self.page = requests.get(self.page_url)\n",
    "        self.entries = self.page.json()[\"items\"]\n",
    "        self.stations = self.create_stations_list()\n",
    "        self.data = {}\n",
    "\n",
    "    def retrieve_measure_metadata(self, measure_url):\n",
    "        measure_page = requests.get(measure_url)\n",
    "        return measure_page.json()[\"items\"]\n",
    "\n",
    "    def retrieve_station_data(self, station_id):\n",
    "        \"\"\"\n",
    "        Returns the last 24 hours of recordings for a given station.\n",
    "        \"\"\"\n",
    "        station_url = self.page_url + station_id\n",
    "        latest_possible_reading_time = self.get_rounded_timestamp()\n",
    "        last_24_hrs = self.subtract_24_hours(latest_possible_reading_time)\n",
    "        station_page = requests.get(station_url + \"/readings?since=\" + last_24_hrs)\n",
    "        station_data = station_page.json()[\"items\"]\n",
    "\n",
    "        for datapoint in station_data:\n",
    "            measure = \"-\".join(\n",
    "                datapoint[\"measure\"].split(\"/\")[-1].split(\"-\")[1:]\n",
    "            )  # Extract measure name\n",
    "            if measure not in self.data.keys():\n",
    "                # initialise empty inner dict to hold timestamps,metadata and values\n",
    "                self.data[measure] = {}\n",
    "                self.data[measure][\"timestamps\"], self.data[measure][\"values\"] = [], []\n",
    "                self.data[measure][\"metadata\"] = self.retrieve_measure_metadata(\n",
    "                    datapoint[\"measure\"]\n",
    "                )\n",
    "            timestamp = datapoint[\"dateTime\"]\n",
    "            value = datapoint[\"value\"]\n",
    "            self.data[measure][\"timestamps\"].append(timestamp)\n",
    "            self.data[measure][\"values\"].append(value)\n",
    "\n",
    "    def get_rounded_timestamp(self):\n",
    "        \"\"\"\n",
    "        Returns the current timestamp rounded down\n",
    "        to the nearest 15-minute increment.\"\"\"\n",
    "        now = dt.datetime.now(dt.timezone.utc)\n",
    "        rounded_minutes = now.minute - (\n",
    "            now.minute % 15\n",
    "        )  # Round down to nearest 15-minute mark\n",
    "        rounded_time = now.replace(minute=rounded_minutes, second=0, microsecond=0)\n",
    "        return rounded_time.strftime(\"%Y-%m-%dT%H:%M:%SZ\")\n",
    "\n",
    "    def subtract_24_hours(self, timestamp: str) -> str:\n",
    "        \"\"\"Subtracts 24 hours from a given timestamp and returns it in the same format.\"\"\"\n",
    "        datetime = dt.datetime.strptime(timestamp, \"%Y-%m-%dT%H:%M:%SZ\")\n",
    "        new_dt = datetime - dt.timedelta(hours=24)\n",
    "        return new_dt.strftime(\"%Y-%m-%dT%H:%M:%SZ\")\n",
    "\n",
    "    def create_stations_list(self):\n",
    "        stations = []\n",
    "        station_ids = []\n",
    "        for entry in self.entries:\n",
    "            stations.append(entry[\"@id\"])\n",
    "            station_ids.append(entry[\"stationReference\"])\n",
    "        return station_ids\n",
    "\n",
    "    def plot_measure(self, df):\n",
    "        \"\"\"Plots the time series data.\"\"\"\n",
    "\n",
    "        df.sort_values(by=\"timestamps\", inplace=True)\n",
    "        df[\"timestamps\"] = pd.to_datetime(df[\"timestamps\"])\n",
    "\n",
    "        # Plot\n",
    "        fig, ax = plt.subplots(figsize=(10, 5))\n",
    "        ax.plot(df[\"timestamps\"], df[\"values\"], marker=\"o\", linestyle=\"-\")\n",
    "\n",
    "        # Formatting\n",
    "        ax.set_xlabel(\"Timestamp\")\n",
    "        ax.set_ylabel(\"Value\")\n",
    "        ax.set_title(\"Time Series Data\")\n",
    "        ax.tick_params(axis=\"x\", rotation=45)  # Rotate x-axis labels for readability\n",
    "        ax.grid()\n",
    "        plt.tight_layout()\n",
    "        st.pyplot(fig)  # Display the plot\n",
    "\n",
    "    def create_name_from_metadata(self, data):\n",
    "        metadata = data[\"metadata\"]\n",
    "        return metadata[\"parameterName\"] + \" - \" + metadata[\"qualifier\"]\n",
    "\n",
    "\n",
    "# Create an instance of MeasurementTool\n",
    "tool = MeasurementTool()"
   ]
  },
  {
   "cell_type": "code",
   "execution_count": 20,
   "metadata": {},
   "outputs": [],
   "source": [
    "tool.retrieve_station_data(\"1491TH\")"
   ]
  },
  {
   "cell_type": "code",
   "execution_count": 22,
   "metadata": {},
   "outputs": [
    {
     "ename": "KeyError",
     "evalue": "'metadata'",
     "output_type": "error",
     "traceback": [
      "\u001b[0;31m---------------------------------------------------------------------------\u001b[0m",
      "\u001b[0;31mKeyError\u001b[0m                                  Traceback (most recent call last)",
      "Cell \u001b[0;32mIn[22], line 1\u001b[0m\n\u001b[0;32m----> 1\u001b[0m tool\u001b[38;5;241m.\u001b[39mdata[\u001b[38;5;124m\"\u001b[39m\u001b[38;5;124mmetadata\u001b[39m\u001b[38;5;124m\"\u001b[39m]\n",
      "\u001b[0;31mKeyError\u001b[0m: 'metadata'"
     ]
    }
   ],
   "source": [
    "tool.data[\"metadata\"]"
   ]
  },
  {
   "cell_type": "code",
   "execution_count": 320,
   "metadata": {},
   "outputs": [],
   "source": [
    "times = [0, 1, 2, 3, 4, 5]\n",
    "values = [5, 4, 3, 2, 1, 0]\n",
    "metadata = {\"id\": 1, \"measure\": \"17\"}"
   ]
  },
  {
   "cell_type": "code",
   "execution_count": 322,
   "metadata": {},
   "outputs": [],
   "source": [
    "dictionary = defaultdict(lambda: {\"timestamps\": [], \"values\": []})"
   ]
  },
  {
   "cell_type": "code",
   "execution_count": 324,
   "metadata": {},
   "outputs": [],
   "source": [
    "dictionary[\"iasd\"][\"metadata\"] = metadata"
   ]
  },
  {
   "cell_type": "code",
   "execution_count": 33,
   "metadata": {},
   "outputs": [
    {
     "name": "stdout",
     "output_type": "stream",
     "text": [
      "level-stage-i-15_min-mASD\n",
      "{'@id': 'http://environment.data.gov.uk/flood-monitoring/id/measures/1491TH-level-stage-i-15_min-mASD', 'datumType': 'http://environment.data.gov.uk/flood-monitoring/def/core/datumASD', 'label': 'River Cherwell at Oxford (Kings Mill) - level-stage-i-15_min-mASD', 'latestReading': {'@id': 'http://environment.data.gov.uk/flood-monitoring/data/readings/1491TH-level-stage-i-15_min-mASD/2025-03-08T15-45-00Z', 'date': '2025-03-08', 'dateTime': '2025-03-08T15:45:00Z', 'measure': 'http://environment.data.gov.uk/flood-monitoring/id/measures/1491TH-level-stage-i-15_min-mASD', 'value': 1.532}, 'notation': '1491TH-level-stage-i-15_min-mASD', 'parameter': 'level', 'parameterName': 'Water Level', 'period': 900, 'qualifier': 'Stage', 'station': 'http://environment.data.gov.uk/flood-monitoring/id/stations/1491TH', 'stationReference': '1491TH', 'type': ['http://environment.data.gov.uk/flood-monitoring/def/core/Measure', 'http://environment.data.gov.uk/flood-monitoring/def/core/WaterLevel'], 'unit': 'http://qudt.org/1.1/vocab/unit#Meter', 'unitName': 'mASD', 'valueType': 'instantaneous'}\n",
      "level-downstage-i-15_min-mASD\n",
      "{'@id': 'http://environment.data.gov.uk/flood-monitoring/id/measures/1491TH-level-downstage-i-15_min-mASD', 'datumType': 'http://environment.data.gov.uk/flood-monitoring/def/core/datumASD', 'label': 'River Cherwell at Oxford (Kings Mill) - level-downstage-i-15_min-mASD', 'latestReading': {'@id': 'http://environment.data.gov.uk/flood-monitoring/data/readings/1491TH-level-downstage-i-15_min-mASD/2025-03-08T15-45-00Z', 'date': '2025-03-08', 'dateTime': '2025-03-08T15:45:00Z', 'measure': 'http://environment.data.gov.uk/flood-monitoring/id/measures/1491TH-level-downstage-i-15_min-mASD', 'value': 0.874}, 'notation': '1491TH-level-downstage-i-15_min-mASD', 'parameter': 'level', 'parameterName': 'Water Level', 'period': 900, 'qualifier': 'Downstream Stage', 'station': 'http://environment.data.gov.uk/flood-monitoring/id/stations/1491TH', 'stationReference': '1491TH', 'type': ['http://environment.data.gov.uk/flood-monitoring/def/core/Measure', 'http://environment.data.gov.uk/flood-monitoring/def/core/WaterLevel'], 'unit': 'http://qudt.org/1.1/vocab/unit#Meter', 'unitName': 'mASD', 'valueType': 'instantaneous'}\n"
     ]
    }
   ],
   "source": [
    "for i in tool.data.keys():\n",
    "    print()"
   ]
  },
  {
   "cell_type": "code",
   "execution_count": 41,
   "metadata": {},
   "outputs": [],
   "source": [
    "# measure_metadata = [[\"metadata\"] for i in tool.data]\n",
    "labels = [tool.create_name_from_metadata(tool.data[i]) for i in tool.data]"
   ]
  },
  {
   "cell_type": "code",
   "execution_count": 44,
   "metadata": {},
   "outputs": [
    {
     "data": {
      "text/plain": [
       "['level-stage-i-15_min-mASD', 'level-downstage-i-15_min-mASD']"
      ]
     },
     "execution_count": 44,
     "metadata": {},
     "output_type": "execute_result"
    }
   ],
   "source": [
    "[i for i in tool.data]"
   ]
  },
  {
   "cell_type": "code",
   "execution_count": 37,
   "metadata": {},
   "outputs": [
    {
     "data": {
      "text/plain": [
       "{'@id': 'http://environment.data.gov.uk/flood-monitoring/id/measures/1491TH-level-downstage-i-15_min-mASD',\n",
       " 'datumType': 'http://environment.data.gov.uk/flood-monitoring/def/core/datumASD',\n",
       " 'label': 'River Cherwell at Oxford (Kings Mill) - level-downstage-i-15_min-mASD',\n",
       " 'latestReading': {'@id': 'http://environment.data.gov.uk/flood-monitoring/data/readings/1491TH-level-downstage-i-15_min-mASD/2025-03-08T15-45-00Z',\n",
       "  'date': '2025-03-08',\n",
       "  'dateTime': '2025-03-08T15:45:00Z',\n",
       "  'measure': 'http://environment.data.gov.uk/flood-monitoring/id/measures/1491TH-level-downstage-i-15_min-mASD',\n",
       "  'value': 0.874},\n",
       " 'notation': '1491TH-level-downstage-i-15_min-mASD',\n",
       " 'parameter': 'level',\n",
       " 'parameterName': 'Water Level',\n",
       " 'period': 900,\n",
       " 'qualifier': 'Downstream Stage',\n",
       " 'station': 'http://environment.data.gov.uk/flood-monitoring/id/stations/1491TH',\n",
       " 'stationReference': '1491TH',\n",
       " 'type': ['http://environment.data.gov.uk/flood-monitoring/def/core/Measure',\n",
       "  'http://environment.data.gov.uk/flood-monitoring/def/core/WaterLevel'],\n",
       " 'unit': 'http://qudt.org/1.1/vocab/unit#Meter',\n",
       " 'unitName': 'mASD',\n",
       " 'valueType': 'instantaneous'}"
      ]
     },
     "execution_count": 37,
     "metadata": {},
     "output_type": "execute_result"
    }
   ],
   "source": [
    "measure_metadata[1]"
   ]
  },
  {
   "cell_type": "code",
   "execution_count": 308,
   "metadata": {},
   "outputs": [
    {
     "data": {
      "application/vnd.jupyter.widget-view+json": {
       "model_id": "5ed198d5132f499e976afd57899e6e6f",
       "version_major": 2,
       "version_minor": 0
      },
      "text/plain": [
       "Dropdown(description='Station:', options=(' ', '1029TH', 'E2043', '52119', 'E21136', '2067', '48143', '720215'…"
      ]
     },
     "metadata": {},
     "output_type": "display_data"
    },
    {
     "data": {
      "application/vnd.jupyter.widget-view+json": {
       "model_id": "1d44c66735954b7cb574cec811ed8ffb",
       "version_major": 2,
       "version_minor": 0
      },
      "text/plain": [
       "Dropdown(description='Measure:', options=(), style=DescriptionStyle(description_width='initial'), value=None)"
      ]
     },
     "metadata": {},
     "output_type": "display_data"
    },
    {
     "data": {
      "application/vnd.jupyter.widget-view+json": {
       "model_id": "aa0d0e4c7ab14427a1a1fafce248ee38",
       "version_major": 2,
       "version_minor": 0
      },
      "text/plain": [
       "Button(description='Retrieve Data', style=ButtonStyle())"
      ]
     },
     "metadata": {},
     "output_type": "display_data"
    },
    {
     "data": {
      "application/vnd.jupyter.widget-view+json": {
       "model_id": "88de906e34b4401fa926732fa26730f6",
       "version_major": 2,
       "version_minor": 0
      },
      "text/plain": [
       "Output()"
      ]
     },
     "metadata": {},
     "output_type": "display_data"
    },
    {
     "name": "stdout",
     "output_type": "stream",
     "text": [
      "Fetching data for 1029TH...\n"
     ]
    }
   ],
   "source": [
    "tool = MeasurementTool()\n",
    "tool.create_widgets()"
   ]
  },
  {
   "cell_type": "code",
   "execution_count": 348,
   "metadata": {},
   "outputs": [
    {
     "data": {
      "text/plain": [
       "defaultdict(<function __main__.MeasurementTool.__init__.<locals>.<lambda>()>,\n",
       "            {'metadata': {'timestamps': [], 'values': []}})"
      ]
     },
     "execution_count": 348,
     "metadata": {},
     "output_type": "execute_result"
    }
   ],
   "source": [
    "tool.data"
   ]
  },
  {
   "cell_type": "code",
   "execution_count": 198,
   "metadata": {},
   "outputs": [],
   "source": [
    "data = tool.retrieve_measurement(\"1029TH\")"
   ]
  }
 ],
 "metadata": {
  "kernelspec": {
   "display_name": "main",
   "language": "python",
   "name": "python3"
  },
  "language_info": {
   "codemirror_mode": {
    "name": "ipython",
    "version": 3
   },
   "file_extension": ".py",
   "mimetype": "text/x-python",
   "name": "python",
   "nbconvert_exporter": "python",
   "pygments_lexer": "ipython3",
   "version": "3.12.2"
  }
 },
 "nbformat": 4,
 "nbformat_minor": 2
}
